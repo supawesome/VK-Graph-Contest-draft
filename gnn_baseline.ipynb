{
 "cells": [
  {
   "cell_type": "code",
   "execution_count": 1,
   "metadata": {},
   "outputs": [],
   "source": [
    "import os\n",
    "import multiprocessing\n",
    "\n",
    "import tqdm\n",
    "import pandas as pd\n",
    "from sklearn.metrics import mean_squared_error\n",
    "\n",
    "import torch\n",
    "import torch.nn as nn\n",
    "import torch.nn.functional as F\n",
    "\n",
    "\n",
    "import torch_geometric.nn as pyg_nn\n",
    "from torch_geometric.data import Data\n",
    "from torch_geometric.loader import DataLoader\n",
    "from torch_geometric.utils import degree"
   ]
  },
  {
   "cell_type": "code",
   "execution_count": 2,
   "metadata": {},
   "outputs": [],
   "source": [
    "# device = torch.device(\"cpu\")\n",
    "device = torch.device(\"cuda\")"
   ]
  },
  {
   "cell_type": "code",
   "execution_count": 3,
   "metadata": {},
   "outputs": [],
   "source": [
    "# df_train = pd.read_csv(\n",
    "#     os.path.join(\"data\", \"train.csv\")\n",
    "# )\n",
    "# df_attrs = pd.read_csv(\n",
    "#     os.path.join(\"data\", \"attr.csv\")\n",
    "# )"
   ]
  },
  {
   "cell_type": "code",
   "execution_count": 4,
   "metadata": {},
   "outputs": [],
   "source": [
    "# node_feature_cols = [\n",
    "#     \"age\",\n",
    "#     \"city_id\",\n",
    "#     \"sex\",\n",
    "#     \"school\",\n",
    "#     \"university\",\n",
    "# ]\n",
    "\n",
    "# edge_feature_cols = [\n",
    "#     \"t\",\n",
    "#     \"x2\",\n",
    "#     \"x3\",\n",
    "# ]\n",
    "\n",
    "# adj_col_names = [\"u\", \"v\"]\n",
    "\n",
    "# def prepare_graph_data(ego_id: int):\n",
    "#     df_edges = df_train.loc[df_train.loc[:, \"ego_id\"] == ego_id]\n",
    "#     df_features = df_attrs.loc[df_attrs.loc[:, \"ego_id\"] == ego_id]\n",
    "\n",
    "#     unique_u = set(df_edges.loc[:, \"u\"])\n",
    "#     unique_v = set(df_edges.loc[:, \"v\"])\n",
    "#     unique_nodes_with_attrs = set(df_features.loc[:, \"u\"])\n",
    "\n",
    "#     max_node_idx = max(max(unique_u), max(unique_v))\n",
    "#     fake_nodes = [idx for idx in range(max_node_idx + 1) if idx not in unique_nodes_with_attrs]\n",
    "#     if len(fake_nodes) > 0:\n",
    "#         fake_features = [-1 for _ in fake_nodes]\n",
    "#         fake_node_to_attrs = {\n",
    "#             \"ego_id\": ego_id,\n",
    "#             \"u\": list(fake_nodes),\n",
    "#             \"age\": fake_features,\n",
    "#             \"city_id\": fake_features,\n",
    "#             \"sex\": fake_features,\n",
    "#             \"school\": fake_features,\n",
    "#             \"university\": fake_features,\n",
    "#         }\n",
    "#         fake_nodes_df = pd.DataFrame(fake_node_to_attrs)\n",
    "#         fake_nodes_df = pd.concat([df_features, fake_nodes_df]).sort_values(by=\"u\")\n",
    "\n",
    "#         result = Data(\n",
    "#             x=torch.tensor(fake_nodes_df.loc[:, node_feature_cols].to_numpy(), dtype=torch.float32),\n",
    "#             edge_index=torch.tensor(df_edges.loc[:, adj_col_names].to_numpy(), dtype=torch.int64).T,\n",
    "#             edge_attr=torch.tensor(df_edges.loc[:, edge_feature_cols].fillna(-1).to_numpy(), dtype=torch.float32),\n",
    "#             y=torch.tensor(df_edges.loc[:, \"x1\"].to_numpy(), dtype=torch.float32),\n",
    "#         ).to(device)\n",
    "\n",
    "#         return result"
   ]
  },
  {
   "cell_type": "code",
   "execution_count": 5,
   "metadata": {},
   "outputs": [
    {
     "name": "stderr",
     "output_type": "stream",
     "text": [
      "100%|██████████| 61786/61786 [2:15:56<00:00,  7.58it/s]  \n"
     ]
    }
   ],
   "source": [
    "# graph_dataset = []\n",
    "# for ego_id in tqdm.tqdm(df_train.loc[:, \"ego_id\"].unique()):\n",
    "#     ego_graph = prepare_graph_data(ego_id)\n",
    "#     if ego_graph:\n",
    "#         graph_dataset.append(prepare_graph_data(ego_id))"
   ]
  },
  {
   "cell_type": "code",
   "execution_count": 3,
   "metadata": {},
   "outputs": [],
   "source": [
    "graph_dataset = torch.load(os.path.join(\"data\", \"preprocessed\", \"train_tensor.pt\"))"
   ]
  },
  {
   "cell_type": "code",
   "execution_count": 7,
   "metadata": {},
   "outputs": [],
   "source": [
    "# torch.save(\n",
    "#     graph_dataset,\n",
    "#     os.path.join(\"data\", \"preprocessed\", \"train_tensor.pt\"),\n",
    "# )"
   ]
  },
  {
   "cell_type": "code",
   "execution_count": 4,
   "metadata": {},
   "outputs": [],
   "source": [
    "loader = DataLoader(graph_dataset, batch_size=512)"
   ]
  },
  {
   "cell_type": "code",
   "execution_count": 14,
   "metadata": {},
   "outputs": [],
   "source": [
    "train_loader = DataLoader(graph_dataset[:int(len(graph_dataset) * 0.2)], batch_size=512)\n",
    "val_loader = DataLoader(graph_dataset[int(len(graph_dataset) * 0.9):int(len(graph_dataset) * 1.)], batch_size=512)"
   ]
  },
  {
   "cell_type": "code",
   "execution_count": 15,
   "metadata": {},
   "outputs": [],
   "source": [
    "class Model(torch.nn.Module):\n",
    "    def __init__(self, hidden_channels):\n",
    "        super().__init__()\n",
    "        self.conv1 = pyg_nn.SAGEConv((-1, -1), hidden_channels)\n",
    "        self.conv2 = pyg_nn.SAGEConv((-1, -1), hidden_channels)\n",
    "        self.lin1 = torch.nn.Linear(2 * hidden_channels + 3, hidden_channels // 2)\n",
    "        self.lin2 = torch.nn.Linear(hidden_channels // 2, 1)\n",
    "\n",
    "    def forward(self, x, edge_index, edge_attr):\n",
    "        x = self.conv1(x, edge_index).relu()\n",
    "        x = self.conv2(x, edge_index)\n",
    "        x = F.dropout(x, training=self.training, p=0.05)\n",
    "\n",
    "        idx_u, idx_v = edge_index\n",
    "        x = torch.cat([x[idx_u], x[idx_v], edge_attr], dim=-1)\n",
    "        x = self.lin1(x).relu()\n",
    "        x = F.dropout(x, training=self.training, p=0.05)\n",
    "        x = self.lin2(x)\n",
    "        return x.view(-1)\n",
    "\n",
    "hidden_state = 32\n",
    "model = Model(hidden_channels=hidden_state).to(device)"
   ]
  },
  {
   "cell_type": "code",
   "execution_count": 16,
   "metadata": {},
   "outputs": [],
   "source": [
    "local_val_minimum = 1.835"
   ]
  },
  {
   "cell_type": "code",
   "execution_count": 17,
   "metadata": {},
   "outputs": [
    {
     "name": "stdout",
     "output_type": "stream",
     "text": [
      "Epoch: 001, Loss: 1707664501374976.0000, val metric: 5040491.708333333\n",
      "Epoch: 002, Loss: 9755741.0000, val metric: 107541432.0\n",
      "Epoch: 003, Loss: 22346632.0000, val metric: 120371900.66666667\n",
      "Epoch: 004, Loss: 20588526.0000, val metric: 99439249.33333333\n",
      "Epoch: 005, Loss: 16629775.0000, val metric: 79661988.0\n",
      "Epoch: 006, Loss: 14554009.0000, val metric: 78029159.0\n",
      "Epoch: 007, Loss: 14274633.0000, val metric: 76400729.0\n",
      "Epoch: 008, Loss: 13921498.0000, val metric: 74727689.33333333\n",
      "Epoch: 009, Loss: 13663069.0000, val metric: 73015123.33333333\n",
      "Epoch: 010, Loss: 13332778.0000, val metric: 71289809.33333333\n",
      "Epoch: 011, Loss: 13170366.0000, val metric: 71115311.66666667\n",
      "Epoch: 012, Loss: 13092648.0000, val metric: 70935834.0\n",
      "Epoch: 013, Loss: 13038540.0000, val metric: 70751096.33333333\n",
      "Epoch: 014, Loss: 12982532.0000, val metric: 70561389.33333333\n",
      "Epoch: 015, Loss: 12930468.0000, val metric: 70367484.66666667\n",
      "Epoch: 016, Loss: 12955266.0000, val metric: 70347607.0\n",
      "Epoch: 017, Loss: 12968704.0000, val metric: 70327198.33333333\n",
      "Epoch: 018, Loss: 12968452.0000, val metric: 70306289.33333333\n",
      "Epoch: 019, Loss: 13023687.0000, val metric: 70284839.0\n",
      "Epoch: 020, Loss: 12965674.0000, val metric: 70262973.0\n",
      "Epoch: 021, Loss: 12951809.0000, val metric: 70260754.33333333\n",
      "Epoch: 022, Loss: 12984327.0000, val metric: 70258497.0\n",
      "Epoch: 023, Loss: 13022996.0000, val metric: 70256198.66666667\n"
     ]
    }
   ],
   "source": [
    "# optimizer = torch.optim.Adam(model.parameters(), lr=0.05)\n",
    "# scheduler = torch.optim.lr_scheduler.CosineAnnealingLR(optimizer, T_max=300)\n",
    "\n",
    "initial_lr = 0.05\n",
    "reset_interval = 5\n",
    "\n",
    "optimizer = torch.optim.Adam(model.parameters(), lr=initial_lr)\n",
    "scheduler = torch.optim.lr_scheduler.StepLR(optimizer, step_size=reset_interval, gamma=0.1)\n",
    "\n",
    "for epoch in range(1, 1000):\n",
    "    total_loss = 0\n",
    "    model.train()\n",
    "    optimizer.zero_grad()\n",
    "    for train_batch in train_loader:\n",
    "        pred = model(train_batch.x, train_batch.edge_index, train_batch.edge_attr)\n",
    "        target = train_batch.y\n",
    "        loss = F.mse_loss(pred, target)\n",
    "        total_loss += loss\n",
    "        loss.backward()\n",
    "        optimizer.step()\n",
    "    scheduler.step()\n",
    "    loss = total_loss / len(loader)\n",
    "\n",
    "    model.eval()\n",
    "    val_metric = 0\n",
    "    for val_batch in val_loader:\n",
    "        with torch.no_grad():\n",
    "            pred = model(val_batch.x, val_batch.edge_index, val_batch.edge_attr)\n",
    "            target = val_batch.y\n",
    "\n",
    "        val_metric += mean_squared_error(pred.cpu(), target.cpu())\n",
    "    val_metric = val_metric / len(val_loader)\n",
    "\n",
    "    if val_metric < local_val_minimum:\n",
    "        model_name = f\"h_{hidden_state}_val_metric_{val_metric}.pt\"\n",
    "        torch.save(\n",
    "            model.state_dict(),\n",
    "            os.path.join(\"models\", model_name),\n",
    "        )\n",
    "        print(f\"save model {model_name}\")\n",
    "        local_val_minimum = val_metric\n",
    "    \n",
    "    print(f'Epoch: {epoch:03d}, Loss: {loss:.4f}, val metric: {val_metric}')"
   ]
  },
  {
   "cell_type": "code",
   "execution_count": 13,
   "metadata": {},
   "outputs": [
    {
     "data": {
      "text/plain": [
       "tensor([0.6808, 0.6808, 0.6808,  ..., 0.6808, 0.6808, 0.6808], device='cuda:0',\n",
       "       grad_fn=<ViewBackward0>)"
      ]
     },
     "execution_count": 13,
     "metadata": {},
     "output_type": "execute_result"
    }
   ],
   "source": [
    "pred"
   ]
  }
 ],
 "metadata": {
  "kernelspec": {
   "display_name": "graph_ml",
   "language": "python",
   "name": "python3"
  },
  "language_info": {
   "codemirror_mode": {
    "name": "ipython",
    "version": 3
   },
   "file_extension": ".py",
   "mimetype": "text/x-python",
   "name": "python",
   "nbconvert_exporter": "python",
   "pygments_lexer": "ipython3",
   "version": "3.9.15"
  },
  "orig_nbformat": 4
 },
 "nbformat": 4,
 "nbformat_minor": 2
}
