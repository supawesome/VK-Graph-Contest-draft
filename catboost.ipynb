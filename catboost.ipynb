{
 "cells": [
  {
   "cell_type": "code",
   "execution_count": 74,
   "metadata": {},
   "outputs": [],
   "source": [
    "import os\n",
    "\n",
    "import pandas as pd"
   ]
  },
  {
   "attachments": {},
   "cell_type": "markdown",
   "metadata": {},
   "source": [
    "### Data preproc"
   ]
  },
  {
   "cell_type": "code",
   "execution_count": 75,
   "metadata": {},
   "outputs": [],
   "source": [
    "df_train = pd.read_csv(\n",
    "    os.path.join(\"data\", \"train.csv\")\n",
    ")"
   ]
  },
  {
   "cell_type": "code",
   "execution_count": 76,
   "metadata": {},
   "outputs": [],
   "source": [
    "df_attrs = pd.read_csv(\n",
    "    os.path.join(\"data\", \"attr.csv\")\n",
    ")"
   ]
  },
  {
   "cell_type": "code",
   "execution_count": 77,
   "metadata": {},
   "outputs": [],
   "source": [
    "df_attrs.loc[:, \"node_idx_global\"] = df_attrs.index"
   ]
  },
  {
   "cell_type": "code",
   "execution_count": 78,
   "metadata": {},
   "outputs": [
    {
     "data": {
      "text/html": [
       "<div>\n",
       "<style scoped>\n",
       "    .dataframe tbody tr th:only-of-type {\n",
       "        vertical-align: middle;\n",
       "    }\n",
       "\n",
       "    .dataframe tbody tr th {\n",
       "        vertical-align: top;\n",
       "    }\n",
       "\n",
       "    .dataframe thead th {\n",
       "        text-align: right;\n",
       "    }\n",
       "</style>\n",
       "<table border=\"1\" class=\"dataframe\">\n",
       "  <thead>\n",
       "    <tr style=\"text-align: right;\">\n",
       "      <th></th>\n",
       "      <th>ego_id</th>\n",
       "      <th>u</th>\n",
       "      <th>v</th>\n",
       "      <th>t</th>\n",
       "      <th>x1</th>\n",
       "      <th>x2</th>\n",
       "      <th>x3</th>\n",
       "    </tr>\n",
       "  </thead>\n",
       "  <tbody>\n",
       "    <tr>\n",
       "      <th>0</th>\n",
       "      <td>0</td>\n",
       "      <td>131</td>\n",
       "      <td>84</td>\n",
       "      <td>148.0</td>\n",
       "      <td>5.669200e-07</td>\n",
       "      <td>0.000000</td>\n",
       "      <td>0.0</td>\n",
       "    </tr>\n",
       "    <tr>\n",
       "      <th>1</th>\n",
       "      <td>0</td>\n",
       "      <td>135</td>\n",
       "      <td>164</td>\n",
       "      <td>396.7</td>\n",
       "      <td>6.246274e-02</td>\n",
       "      <td>0.000000</td>\n",
       "      <td>0.0</td>\n",
       "    </tr>\n",
       "    <tr>\n",
       "      <th>2</th>\n",
       "      <td>0</td>\n",
       "      <td>47</td>\n",
       "      <td>15</td>\n",
       "      <td>NaN</td>\n",
       "      <td>0.000000e+00</td>\n",
       "      <td>0.000000</td>\n",
       "      <td>1.0</td>\n",
       "    </tr>\n",
       "    <tr>\n",
       "      <th>3</th>\n",
       "      <td>0</td>\n",
       "      <td>5</td>\n",
       "      <td>4</td>\n",
       "      <td>594.5</td>\n",
       "      <td>4.962974e-02</td>\n",
       "      <td>0.000000</td>\n",
       "      <td>0.0</td>\n",
       "    </tr>\n",
       "    <tr>\n",
       "      <th>4</th>\n",
       "      <td>0</td>\n",
       "      <td>176</td>\n",
       "      <td>219</td>\n",
       "      <td>45.5</td>\n",
       "      <td>1.237935e+00</td>\n",
       "      <td>0.000000</td>\n",
       "      <td>0.0</td>\n",
       "    </tr>\n",
       "    <tr>\n",
       "      <th>...</th>\n",
       "      <td>...</td>\n",
       "      <td>...</td>\n",
       "      <td>...</td>\n",
       "      <td>...</td>\n",
       "      <td>...</td>\n",
       "      <td>...</td>\n",
       "      <td>...</td>\n",
       "    </tr>\n",
       "    <tr>\n",
       "      <th>122280367</th>\n",
       "      <td>1709396984692</td>\n",
       "      <td>3</td>\n",
       "      <td>5</td>\n",
       "      <td>34.6</td>\n",
       "      <td>2.307750e+00</td>\n",
       "      <td>1.098612</td>\n",
       "      <td>0.0</td>\n",
       "    </tr>\n",
       "    <tr>\n",
       "      <th>122280368</th>\n",
       "      <td>1709396984692</td>\n",
       "      <td>1</td>\n",
       "      <td>5</td>\n",
       "      <td>53.8</td>\n",
       "      <td>3.729143e+00</td>\n",
       "      <td>3.496508</td>\n",
       "      <td>1.0</td>\n",
       "    </tr>\n",
       "    <tr>\n",
       "      <th>122280369</th>\n",
       "      <td>1709396984692</td>\n",
       "      <td>1</td>\n",
       "      <td>7</td>\n",
       "      <td>1.5</td>\n",
       "      <td>4.286984e+00</td>\n",
       "      <td>0.000000</td>\n",
       "      <td>0.0</td>\n",
       "    </tr>\n",
       "    <tr>\n",
       "      <th>122280370</th>\n",
       "      <td>1709396984692</td>\n",
       "      <td>5</td>\n",
       "      <td>11</td>\n",
       "      <td>2.0</td>\n",
       "      <td>3.500757e+00</td>\n",
       "      <td>0.000000</td>\n",
       "      <td>0.0</td>\n",
       "    </tr>\n",
       "    <tr>\n",
       "      <th>122280371</th>\n",
       "      <td>1709396984692</td>\n",
       "      <td>3</td>\n",
       "      <td>1</td>\n",
       "      <td>22.0</td>\n",
       "      <td>5.773366e-02</td>\n",
       "      <td>0.000000</td>\n",
       "      <td>0.0</td>\n",
       "    </tr>\n",
       "  </tbody>\n",
       "</table>\n",
       "<p>122280372 rows × 7 columns</p>\n",
       "</div>"
      ],
      "text/plain": [
       "                  ego_id    u    v      t            x1        x2   x3\n",
       "0                      0  131   84  148.0  5.669200e-07  0.000000  0.0\n",
       "1                      0  135  164  396.7  6.246274e-02  0.000000  0.0\n",
       "2                      0   47   15    NaN  0.000000e+00  0.000000  1.0\n",
       "3                      0    5    4  594.5  4.962974e-02  0.000000  0.0\n",
       "4                      0  176  219   45.5  1.237935e+00  0.000000  0.0\n",
       "...                  ...  ...  ...    ...           ...       ...  ...\n",
       "122280367  1709396984692    3    5   34.6  2.307750e+00  1.098612  0.0\n",
       "122280368  1709396984692    1    5   53.8  3.729143e+00  3.496508  1.0\n",
       "122280369  1709396984692    1    7    1.5  4.286984e+00  0.000000  0.0\n",
       "122280370  1709396984692    5   11    2.0  3.500757e+00  0.000000  0.0\n",
       "122280371  1709396984692    3    1   22.0  5.773366e-02  0.000000  0.0\n",
       "\n",
       "[122280372 rows x 7 columns]"
      ]
     },
     "execution_count": 78,
     "metadata": {},
     "output_type": "execute_result"
    }
   ],
   "source": [
    "df_train"
   ]
  },
  {
   "cell_type": "code",
   "execution_count": 79,
   "metadata": {},
   "outputs": [
    {
     "data": {
      "text/html": [
       "<div>\n",
       "<style scoped>\n",
       "    .dataframe tbody tr th:only-of-type {\n",
       "        vertical-align: middle;\n",
       "    }\n",
       "\n",
       "    .dataframe tbody tr th {\n",
       "        vertical-align: top;\n",
       "    }\n",
       "\n",
       "    .dataframe thead th {\n",
       "        text-align: right;\n",
       "    }\n",
       "</style>\n",
       "<table border=\"1\" class=\"dataframe\">\n",
       "  <thead>\n",
       "    <tr style=\"text-align: right;\">\n",
       "      <th></th>\n",
       "      <th>ego_id</th>\n",
       "      <th>u</th>\n",
       "      <th>age</th>\n",
       "      <th>city_id</th>\n",
       "      <th>sex</th>\n",
       "      <th>school</th>\n",
       "      <th>university</th>\n",
       "      <th>node_idx_global</th>\n",
       "    </tr>\n",
       "  </thead>\n",
       "  <tbody>\n",
       "    <tr>\n",
       "      <th>0</th>\n",
       "      <td>0</td>\n",
       "      <td>227</td>\n",
       "      <td>68</td>\n",
       "      <td>-1</td>\n",
       "      <td>1</td>\n",
       "      <td>778293348</td>\n",
       "      <td>-1</td>\n",
       "      <td>0</td>\n",
       "    </tr>\n",
       "    <tr>\n",
       "      <th>1</th>\n",
       "      <td>0</td>\n",
       "      <td>45</td>\n",
       "      <td>38</td>\n",
       "      <td>237065842</td>\n",
       "      <td>1</td>\n",
       "      <td>82803468</td>\n",
       "      <td>238500268</td>\n",
       "      <td>1</td>\n",
       "    </tr>\n",
       "    <tr>\n",
       "      <th>2</th>\n",
       "      <td>0</td>\n",
       "      <td>142</td>\n",
       "      <td>60</td>\n",
       "      <td>237065842</td>\n",
       "      <td>1</td>\n",
       "      <td>196560139</td>\n",
       "      <td>-1</td>\n",
       "      <td>2</td>\n",
       "    </tr>\n",
       "    <tr>\n",
       "      <th>3</th>\n",
       "      <td>0</td>\n",
       "      <td>280</td>\n",
       "      <td>66</td>\n",
       "      <td>-1</td>\n",
       "      <td>2</td>\n",
       "      <td>963209731</td>\n",
       "      <td>720783270</td>\n",
       "      <td>3</td>\n",
       "    </tr>\n",
       "    <tr>\n",
       "      <th>4</th>\n",
       "      <td>0</td>\n",
       "      <td>41</td>\n",
       "      <td>18</td>\n",
       "      <td>-1</td>\n",
       "      <td>2</td>\n",
       "      <td>308862409</td>\n",
       "      <td>-1</td>\n",
       "      <td>4</td>\n",
       "    </tr>\n",
       "    <tr>\n",
       "      <th>...</th>\n",
       "      <td>...</td>\n",
       "      <td>...</td>\n",
       "      <td>...</td>\n",
       "      <td>...</td>\n",
       "      <td>...</td>\n",
       "      <td>...</td>\n",
       "      <td>...</td>\n",
       "      <td>...</td>\n",
       "    </tr>\n",
       "    <tr>\n",
       "      <th>14930743</th>\n",
       "      <td>1709396984692</td>\n",
       "      <td>2</td>\n",
       "      <td>16</td>\n",
       "      <td>492149712</td>\n",
       "      <td>2</td>\n",
       "      <td>769209871</td>\n",
       "      <td>-1</td>\n",
       "      <td>14930743</td>\n",
       "    </tr>\n",
       "    <tr>\n",
       "      <th>14930744</th>\n",
       "      <td>1709396984692</td>\n",
       "      <td>12</td>\n",
       "      <td>15</td>\n",
       "      <td>-1</td>\n",
       "      <td>1</td>\n",
       "      <td>-1</td>\n",
       "      <td>-1</td>\n",
       "      <td>14930744</td>\n",
       "    </tr>\n",
       "    <tr>\n",
       "      <th>14930745</th>\n",
       "      <td>1709396984692</td>\n",
       "      <td>18</td>\n",
       "      <td>23</td>\n",
       "      <td>-1</td>\n",
       "      <td>1</td>\n",
       "      <td>-1</td>\n",
       "      <td>-1</td>\n",
       "      <td>14930745</td>\n",
       "    </tr>\n",
       "    <tr>\n",
       "      <th>14930746</th>\n",
       "      <td>1709396984692</td>\n",
       "      <td>4</td>\n",
       "      <td>16</td>\n",
       "      <td>650683235</td>\n",
       "      <td>1</td>\n",
       "      <td>-1</td>\n",
       "      <td>-1</td>\n",
       "      <td>14930746</td>\n",
       "    </tr>\n",
       "    <tr>\n",
       "      <th>14930747</th>\n",
       "      <td>1709396984692</td>\n",
       "      <td>10</td>\n",
       "      <td>16</td>\n",
       "      <td>-1</td>\n",
       "      <td>1</td>\n",
       "      <td>-1</td>\n",
       "      <td>-1</td>\n",
       "      <td>14930747</td>\n",
       "    </tr>\n",
       "  </tbody>\n",
       "</table>\n",
       "<p>14930748 rows × 8 columns</p>\n",
       "</div>"
      ],
      "text/plain": [
       "                 ego_id    u  age    city_id  sex     school  university   \n",
       "0                     0  227   68         -1    1  778293348          -1  \\\n",
       "1                     0   45   38  237065842    1   82803468   238500268   \n",
       "2                     0  142   60  237065842    1  196560139          -1   \n",
       "3                     0  280   66         -1    2  963209731   720783270   \n",
       "4                     0   41   18         -1    2  308862409          -1   \n",
       "...                 ...  ...  ...        ...  ...        ...         ...   \n",
       "14930743  1709396984692    2   16  492149712    2  769209871          -1   \n",
       "14930744  1709396984692   12   15         -1    1         -1          -1   \n",
       "14930745  1709396984692   18   23         -1    1         -1          -1   \n",
       "14930746  1709396984692    4   16  650683235    1         -1          -1   \n",
       "14930747  1709396984692   10   16         -1    1         -1          -1   \n",
       "\n",
       "          node_idx_global  \n",
       "0                       0  \n",
       "1                       1  \n",
       "2                       2  \n",
       "3                       3  \n",
       "4                       4  \n",
       "...                   ...  \n",
       "14930743         14930743  \n",
       "14930744         14930744  \n",
       "14930745         14930745  \n",
       "14930746         14930746  \n",
       "14930747         14930747  \n",
       "\n",
       "[14930748 rows x 8 columns]"
      ]
     },
     "execution_count": 79,
     "metadata": {},
     "output_type": "execute_result"
    }
   ],
   "source": [
    "df_attrs"
   ]
  },
  {
   "cell_type": "code",
   "execution_count": 80,
   "metadata": {},
   "outputs": [],
   "source": [
    "df_attrs.rename(\n",
    "    columns={\n",
    "        \"u\": \"node_idx\"\n",
    "    },\n",
    "    inplace=True,\n",
    ")"
   ]
  },
  {
   "cell_type": "code",
   "execution_count": 81,
   "metadata": {},
   "outputs": [],
   "source": [
    "df_train = df_train.merge(df_attrs, left_on=[\"ego_id\", \"u\"], right_on=[\"ego_id\", \"node_idx\"], how=\"left\")"
   ]
  },
  {
   "cell_type": "code",
   "execution_count": 82,
   "metadata": {},
   "outputs": [
    {
     "data": {
      "text/plain": [
       "61786"
      ]
     },
     "execution_count": 82,
     "metadata": {},
     "output_type": "execute_result"
    }
   ],
   "source": [
    "len(set(df_train[\"ego_id\"]))"
   ]
  },
  {
   "cell_type": "code",
   "execution_count": 83,
   "metadata": {},
   "outputs": [],
   "source": [
    "ego_ids = list(df_train[\"ego_id\"].unique())\n",
    "split = 10000\n",
    "train_ids = ego_ids[:split]\n",
    "# val_ids = ego_ids[split:]\n",
    "\n",
    "df_train_subset = df_train.loc[\n",
    "    df_train.loc[:, \"ego_id\"].isin(train_ids)\n",
    "]"
   ]
  },
  {
   "cell_type": "code",
   "execution_count": 84,
   "metadata": {},
   "outputs": [],
   "source": [
    "df_train = df_train_subset.merge(df_attrs, left_on=[\"ego_id\", \"v\"], right_on=[\"ego_id\", \"node_idx\"], how=\"inner\", suffixes=(\"_u\", \"_v\"))"
   ]
  },
  {
   "cell_type": "code",
   "execution_count": 85,
   "metadata": {},
   "outputs": [],
   "source": [
    "df_train.drop(columns=[\"node_idx_u\", \"node_idx_v\"], inplace=True)"
   ]
  },
  {
   "cell_type": "code",
   "execution_count": 86,
   "metadata": {},
   "outputs": [],
   "source": [
    "# df_train.loc[:, \"x3\"].nunique()\n",
    "# df_train.loc[:, \"x3\"].sort_values()"
   ]
  },
  {
   "cell_type": "code",
   "execution_count": 87,
   "metadata": {},
   "outputs": [],
   "source": [
    "target = df_train['x1']"
   ]
  },
  {
   "cell_type": "code",
   "execution_count": 88,
   "metadata": {},
   "outputs": [],
   "source": [
    "drop_features = [\n",
    "    'ego_id', \n",
    "    'u', \n",
    "    'v', \n",
    "    'x1', \n",
    "    'node_idx_global_u', \n",
    "    'node_idx_global_v'\n",
    "]"
   ]
  },
  {
   "cell_type": "code",
   "execution_count": 89,
   "metadata": {},
   "outputs": [],
   "source": [
    "cat_features = [\n",
    "    'city_id_u',\n",
    "    'city_id_v',\n",
    "    'x3',\n",
    "    'sex_u',\n",
    "    'sex_v',\n",
    "    'school_u',\n",
    "    'school_v',\n",
    "    'university_u',\n",
    "    'university_v'\n",
    "]"
   ]
  },
  {
   "cell_type": "code",
   "execution_count": 90,
   "metadata": {},
   "outputs": [],
   "source": [
    "df_train.loc[:, \"city_id_u\"] = df_train.loc[:, \"city_id_u\"].fillna(0)\n",
    "df_train.loc[:, \"city_id_v\"] = df_train.loc[:, \"city_id_v\"].fillna(0)\n",
    "df_train.loc[:, \"sex_u\"] = df_train.loc[:, \"sex_u\"].fillna(0)\n",
    "df_train.loc[:, \"sex_v\"] = df_train.loc[:, \"sex_v\"].fillna(0)\n",
    "df_train.loc[:, \"school_u\"] = df_train.loc[:, \"school_u\"].fillna(0)\n",
    "df_train.loc[:, \"school_v\"] = df_train.loc[:, \"school_v\"].fillna(0)\n",
    "df_train.loc[:, \"university_u\"] = df_train.loc[:, \"university_u\"].fillna(0)\n",
    "df_train.loc[:, \"university_v\"] = df_train.loc[:, \"university_v\"].fillna(0)"
   ]
  },
  {
   "cell_type": "code",
   "execution_count": 91,
   "metadata": {},
   "outputs": [
    {
     "data": {
      "text/html": [
       "<div>\n",
       "<style scoped>\n",
       "    .dataframe tbody tr th:only-of-type {\n",
       "        vertical-align: middle;\n",
       "    }\n",
       "\n",
       "    .dataframe tbody tr th {\n",
       "        vertical-align: top;\n",
       "    }\n",
       "\n",
       "    .dataframe thead th {\n",
       "        text-align: right;\n",
       "    }\n",
       "</style>\n",
       "<table border=\"1\" class=\"dataframe\">\n",
       "  <thead>\n",
       "    <tr style=\"text-align: right;\">\n",
       "      <th></th>\n",
       "      <th>city_id_u</th>\n",
       "      <th>city_id_v</th>\n",
       "      <th>x3</th>\n",
       "      <th>sex_u</th>\n",
       "      <th>sex_v</th>\n",
       "      <th>school_u</th>\n",
       "      <th>school_v</th>\n",
       "      <th>university_u</th>\n",
       "      <th>university_v</th>\n",
       "    </tr>\n",
       "  </thead>\n",
       "  <tbody>\n",
       "    <tr>\n",
       "      <th>0</th>\n",
       "      <td>237065842.0</td>\n",
       "      <td>237065842</td>\n",
       "      <td>0.0</td>\n",
       "      <td>1.0</td>\n",
       "      <td>1</td>\n",
       "      <td>-1.0</td>\n",
       "      <td>182400947</td>\n",
       "      <td>-1.0</td>\n",
       "      <td>310894832</td>\n",
       "    </tr>\n",
       "    <tr>\n",
       "      <th>1</th>\n",
       "      <td>237065842.0</td>\n",
       "      <td>237065842</td>\n",
       "      <td>0.0</td>\n",
       "      <td>1.0</td>\n",
       "      <td>1</td>\n",
       "      <td>625119395.0</td>\n",
       "      <td>182400947</td>\n",
       "      <td>815498626.0</td>\n",
       "      <td>310894832</td>\n",
       "    </tr>\n",
       "    <tr>\n",
       "      <th>2</th>\n",
       "      <td>237065842.0</td>\n",
       "      <td>237065842</td>\n",
       "      <td>0.0</td>\n",
       "      <td>1.0</td>\n",
       "      <td>1</td>\n",
       "      <td>-1.0</td>\n",
       "      <td>182400947</td>\n",
       "      <td>649586426.0</td>\n",
       "      <td>310894832</td>\n",
       "    </tr>\n",
       "    <tr>\n",
       "      <th>3</th>\n",
       "      <td>237065842.0</td>\n",
       "      <td>237065842</td>\n",
       "      <td>0.0</td>\n",
       "      <td>1.0</td>\n",
       "      <td>1</td>\n",
       "      <td>657513194.0</td>\n",
       "      <td>182400947</td>\n",
       "      <td>188886628.0</td>\n",
       "      <td>310894832</td>\n",
       "    </tr>\n",
       "    <tr>\n",
       "      <th>4</th>\n",
       "      <td>237065842.0</td>\n",
       "      <td>237065842</td>\n",
       "      <td>0.0</td>\n",
       "      <td>1.0</td>\n",
       "      <td>1</td>\n",
       "      <td>682233918.0</td>\n",
       "      <td>182400947</td>\n",
       "      <td>532275706.0</td>\n",
       "      <td>310894832</td>\n",
       "    </tr>\n",
       "    <tr>\n",
       "      <th>...</th>\n",
       "      <td>...</td>\n",
       "      <td>...</td>\n",
       "      <td>...</td>\n",
       "      <td>...</td>\n",
       "      <td>...</td>\n",
       "      <td>...</td>\n",
       "      <td>...</td>\n",
       "      <td>...</td>\n",
       "      <td>...</td>\n",
       "    </tr>\n",
       "    <tr>\n",
       "      <th>18554525</th>\n",
       "      <td>583492759.0</td>\n",
       "      <td>583492759</td>\n",
       "      <td>0.0</td>\n",
       "      <td>1.0</td>\n",
       "      <td>1</td>\n",
       "      <td>156381099.0</td>\n",
       "      <td>918317932</td>\n",
       "      <td>-1.0</td>\n",
       "      <td>502032137</td>\n",
       "    </tr>\n",
       "    <tr>\n",
       "      <th>18554526</th>\n",
       "      <td>583492759.0</td>\n",
       "      <td>583492759</td>\n",
       "      <td>0.0</td>\n",
       "      <td>1.0</td>\n",
       "      <td>1</td>\n",
       "      <td>147516338.0</td>\n",
       "      <td>53304186</td>\n",
       "      <td>392811042.0</td>\n",
       "      <td>772479732</td>\n",
       "    </tr>\n",
       "    <tr>\n",
       "      <th>18554527</th>\n",
       "      <td>583492759.0</td>\n",
       "      <td>583492759</td>\n",
       "      <td>0.0</td>\n",
       "      <td>2.0</td>\n",
       "      <td>1</td>\n",
       "      <td>17030511.0</td>\n",
       "      <td>17030511</td>\n",
       "      <td>-1.0</td>\n",
       "      <td>192890972</td>\n",
       "    </tr>\n",
       "    <tr>\n",
       "      <th>18554528</th>\n",
       "      <td>583492759.0</td>\n",
       "      <td>583492759</td>\n",
       "      <td>0.0</td>\n",
       "      <td>1.0</td>\n",
       "      <td>1</td>\n",
       "      <td>147516338.0</td>\n",
       "      <td>-1</td>\n",
       "      <td>392811042.0</td>\n",
       "      <td>-1</td>\n",
       "    </tr>\n",
       "    <tr>\n",
       "      <th>18554529</th>\n",
       "      <td>583492759.0</td>\n",
       "      <td>583492759</td>\n",
       "      <td>0.0</td>\n",
       "      <td>1.0</td>\n",
       "      <td>1</td>\n",
       "      <td>147516338.0</td>\n",
       "      <td>883544006</td>\n",
       "      <td>392811042.0</td>\n",
       "      <td>-1</td>\n",
       "    </tr>\n",
       "  </tbody>\n",
       "</table>\n",
       "<p>18554530 rows × 9 columns</p>\n",
       "</div>"
      ],
      "text/plain": [
       "            city_id_u  city_id_v   x3  sex_u  sex_v     school_u   school_v   \n",
       "0         237065842.0  237065842  0.0    1.0      1         -1.0  182400947  \\\n",
       "1         237065842.0  237065842  0.0    1.0      1  625119395.0  182400947   \n",
       "2         237065842.0  237065842  0.0    1.0      1         -1.0  182400947   \n",
       "3         237065842.0  237065842  0.0    1.0      1  657513194.0  182400947   \n",
       "4         237065842.0  237065842  0.0    1.0      1  682233918.0  182400947   \n",
       "...               ...        ...  ...    ...    ...          ...        ...   \n",
       "18554525  583492759.0  583492759  0.0    1.0      1  156381099.0  918317932   \n",
       "18554526  583492759.0  583492759  0.0    1.0      1  147516338.0   53304186   \n",
       "18554527  583492759.0  583492759  0.0    2.0      1   17030511.0   17030511   \n",
       "18554528  583492759.0  583492759  0.0    1.0      1  147516338.0         -1   \n",
       "18554529  583492759.0  583492759  0.0    1.0      1  147516338.0  883544006   \n",
       "\n",
       "          university_u  university_v  \n",
       "0                 -1.0     310894832  \n",
       "1          815498626.0     310894832  \n",
       "2          649586426.0     310894832  \n",
       "3          188886628.0     310894832  \n",
       "4          532275706.0     310894832  \n",
       "...                ...           ...  \n",
       "18554525          -1.0     502032137  \n",
       "18554526   392811042.0     772479732  \n",
       "18554527          -1.0     192890972  \n",
       "18554528   392811042.0            -1  \n",
       "18554529   392811042.0            -1  \n",
       "\n",
       "[18554530 rows x 9 columns]"
      ]
     },
     "execution_count": 91,
     "metadata": {},
     "output_type": "execute_result"
    }
   ],
   "source": [
    "df_train[cat_features]"
   ]
  },
  {
   "cell_type": "code",
   "execution_count": 92,
   "metadata": {},
   "outputs": [],
   "source": [
    "# df_train.info()"
   ]
  },
  {
   "cell_type": "code",
   "execution_count": 93,
   "metadata": {},
   "outputs": [],
   "source": [
    "df_train[cat_features] = df_train[cat_features].astype(int)"
   ]
  },
  {
   "cell_type": "code",
   "execution_count": 94,
   "metadata": {},
   "outputs": [
    {
     "data": {
      "text/html": [
       "<div>\n",
       "<style scoped>\n",
       "    .dataframe tbody tr th:only-of-type {\n",
       "        vertical-align: middle;\n",
       "    }\n",
       "\n",
       "    .dataframe tbody tr th {\n",
       "        vertical-align: top;\n",
       "    }\n",
       "\n",
       "    .dataframe thead th {\n",
       "        text-align: right;\n",
       "    }\n",
       "</style>\n",
       "<table border=\"1\" class=\"dataframe\">\n",
       "  <thead>\n",
       "    <tr style=\"text-align: right;\">\n",
       "      <th></th>\n",
       "      <th>ego_id</th>\n",
       "      <th>u</th>\n",
       "      <th>v</th>\n",
       "      <th>t</th>\n",
       "      <th>x1</th>\n",
       "      <th>x2</th>\n",
       "      <th>x3</th>\n",
       "      <th>age_u</th>\n",
       "      <th>city_id_u</th>\n",
       "      <th>sex_u</th>\n",
       "      <th>school_u</th>\n",
       "      <th>university_u</th>\n",
       "      <th>node_idx_global_u</th>\n",
       "      <th>age_v</th>\n",
       "      <th>city_id_v</th>\n",
       "      <th>sex_v</th>\n",
       "      <th>school_v</th>\n",
       "      <th>university_v</th>\n",
       "      <th>node_idx_global_v</th>\n",
       "    </tr>\n",
       "  </thead>\n",
       "  <tbody>\n",
       "  </tbody>\n",
       "</table>\n",
       "</div>"
      ],
      "text/plain": [
       "Empty DataFrame\n",
       "Columns: [ego_id, u, v, t, x1, x2, x3, age_u, city_id_u, sex_u, school_u, university_u, node_idx_global_u, age_v, city_id_v, sex_v, school_v, university_v, node_idx_global_v]\n",
       "Index: []"
      ]
     },
     "execution_count": 94,
     "metadata": {},
     "output_type": "execute_result"
    }
   ],
   "source": [
    "df_train[df_train.loc[:,\"ego_id\"] == 8]"
   ]
  },
  {
   "cell_type": "code",
   "execution_count": 95,
   "metadata": {},
   "outputs": [],
   "source": [
    "df_train.drop(drop_features, axis=1, inplace=True)"
   ]
  },
  {
   "attachments": {},
   "cell_type": "markdown",
   "metadata": {},
   "source": [
    "### Model"
   ]
  },
  {
   "cell_type": "code",
   "execution_count": 96,
   "metadata": {},
   "outputs": [],
   "source": [
    "from catboost import CatBoostRegressor, Pool\n",
    "\n",
    "from sklearn.metrics import mean_squared_error\n",
    "from sklearn.model_selection import train_test_split"
   ]
  },
  {
   "cell_type": "code",
   "execution_count": 97,
   "metadata": {},
   "outputs": [],
   "source": [
    "'''Разбиение на тест и трейн 70/30'''\n",
    "X_train_split, X_test_split, y_train_split, y_test_split = train_test_split(df_train, target, test_size=0.3, random_state=123)"
   ]
  },
  {
   "cell_type": "code",
   "execution_count": 98,
   "metadata": {},
   "outputs": [],
   "source": [
    "cat_features_index = [i for i, item in enumerate(df_train.columns) if item in cat_features]"
   ]
  },
  {
   "cell_type": "code",
   "execution_count": 99,
   "metadata": {},
   "outputs": [
    {
     "name": "stdout",
     "output_type": "stream",
     "text": [
      "CPU times: total: 0 ns\n",
      "Wall time: 0 ns\n"
     ]
    },
    {
     "ename": "",
     "evalue": "",
     "output_type": "error",
     "traceback": [
      "\u001b[1;31mThe Kernel crashed while executing code in the the current cell or a previous cell. Please review the code in the cell(s) to identify a possible cause of the failure. Click <a href='https://aka.ms/vscodeJupyterKernelCrash'>here</a> for more info. View Jupyter <a href='command:jupyter.viewOutput'>log</a> for further details."
     ]
    },
    {
     "ename": "",
     "evalue": "",
     "output_type": "error",
     "traceback": [
      "\u001b[1;31mCanceled future for execute_request message before replies were done"
     ]
    }
   ],
   "source": [
    "'''Catboost'''\n",
    "\n",
    "cb = CatBoostRegressor(cat_features = cat_features_index,  task_type = 'GPU', loss_function='RMSE')\n",
    "\n",
    "%time\n",
    "cb.fit(X_train_split, y_train_split)"
   ]
  },
  {
   "cell_type": "code",
   "execution_count": null,
   "metadata": {},
   "outputs": [],
   "source": [
    "mean_squared_error(y_test_split, cb.predict(X_test_split), squared=False)"
   ]
  },
  {
   "attachments": {},
   "cell_type": "markdown",
   "metadata": {},
   "source": [
    "### Submission"
   ]
  },
  {
   "attachments": {},
   "cell_type": "markdown",
   "metadata": {},
   "source": [
    "#### Data preproc"
   ]
  },
  {
   "cell_type": "code",
   "execution_count": null,
   "metadata": {},
   "outputs": [],
   "source": [
    "df_submission = pd.read_csv(\n",
    "    os.path.join(\"data\", \"submission.csv\")\n",
    ")"
   ]
  },
  {
   "cell_type": "code",
   "execution_count": null,
   "metadata": {},
   "outputs": [],
   "source": [
    "df_test = pd.read_csv(\n",
    "    os.path.join(\"data\", \"test.csv\")\n",
    ")"
   ]
  },
  {
   "cell_type": "code",
   "execution_count": null,
   "metadata": {},
   "outputs": [],
   "source": [
    "# df_submission[df_submission.loc[:,\"ego_id\"] == 8].sort_values(by=[\"u\",\"v\"])"
   ]
  },
  {
   "cell_type": "code",
   "execution_count": null,
   "metadata": {},
   "outputs": [],
   "source": [
    "df_submission_enriched = df_test.merge(df_submission, on=[\"ego_id\", \"u\", \"v\"], how=\"inner\", copy=False, suffixes=[\"_test\", \"_submission\"])"
   ]
  },
  {
   "cell_type": "code",
   "execution_count": null,
   "metadata": {},
   "outputs": [],
   "source": [
    "df_submission_enriched.drop(columns=[\"x1_test\", \"x1_submission\"], inplace=True)"
   ]
  },
  {
   "cell_type": "code",
   "execution_count": null,
   "metadata": {},
   "outputs": [],
   "source": [
    "df_submission_enriched.drop_duplicates(subset=[\"ego_id\", \"u\", \"v\"], inplace=True)"
   ]
  },
  {
   "cell_type": "code",
   "execution_count": null,
   "metadata": {},
   "outputs": [],
   "source": [
    "df_submission_enriched"
   ]
  },
  {
   "cell_type": "code",
   "execution_count": null,
   "metadata": {},
   "outputs": [],
   "source": [
    "df_submission_enriched"
   ]
  },
  {
   "cell_type": "code",
   "execution_count": null,
   "metadata": {},
   "outputs": [],
   "source": [
    "df_submission_enriched = df_submission_enriched.merge(df_attrs, left_on=[\"ego_id\", \"u\"], right_on=[\"ego_id\", \"node_idx\"], how=\"left\")"
   ]
  },
  {
   "cell_type": "code",
   "execution_count": null,
   "metadata": {},
   "outputs": [],
   "source": [
    "df_submission_enriched = df_submission_enriched.merge(df_attrs, left_on=[\"ego_id\", \"v\"], right_on=[\"ego_id\", \"node_idx\"], how=\"left\", suffixes=(\"_u\", \"_v\"))"
   ]
  },
  {
   "cell_type": "code",
   "execution_count": null,
   "metadata": {},
   "outputs": [],
   "source": [
    "df_submission_enriched.drop(columns=[\"node_idx_u\", \"node_idx_v\"], inplace=True)"
   ]
  },
  {
   "cell_type": "code",
   "execution_count": null,
   "metadata": {},
   "outputs": [],
   "source": [
    "df_submission_enriched.loc[:, \"city_id_v\"] = df_submission_enriched.loc[:, \"city_id_v\"].fillna(0)\n",
    "df_submission_enriched.loc[:, \"city_id_u\"] = df_submission_enriched.loc[:, \"city_id_u\"].fillna(0)\n",
    "df_submission_enriched.loc[:, \"sex_u\"] = df_submission_enriched.loc[:, \"sex_u\"].fillna(0)\n",
    "df_submission_enriched.loc[:, \"sex_v\"] = df_submission_enriched.loc[:, \"sex_v\"].fillna(0)\n",
    "df_submission_enriched.loc[:, \"school_u\"] = df_submission_enriched.loc[:, \"school_u\"].fillna(0)\n",
    "df_submission_enriched.loc[:, \"school_v\"] = df_submission_enriched.loc[:, \"school_v\"].fillna(0)\n",
    "df_submission_enriched.loc[:, \"university_u\"] = df_submission_enriched.loc[:, \"university_u\"].fillna(0)\n",
    "df_submission_enriched.loc[:, \"university_v\"] = df_submission_enriched.loc[:, \"university_v\"].fillna(0)"
   ]
  },
  {
   "cell_type": "code",
   "execution_count": null,
   "metadata": {},
   "outputs": [],
   "source": [
    "df_submission_enriched[cat_features]"
   ]
  },
  {
   "cell_type": "code",
   "execution_count": null,
   "metadata": {},
   "outputs": [],
   "source": [
    "# df_train.info()"
   ]
  },
  {
   "cell_type": "code",
   "execution_count": null,
   "metadata": {},
   "outputs": [],
   "source": [
    "df_submission_enriched[cat_features] = df_submission_enriched[cat_features].astype(int)"
   ]
  },
  {
   "cell_type": "code",
   "execution_count": null,
   "metadata": {},
   "outputs": [],
   "source": [
    "df_submission_enriched"
   ]
  },
  {
   "cell_type": "code",
   "execution_count": null,
   "metadata": {},
   "outputs": [],
   "source": [
    "df_submission"
   ]
  },
  {
   "cell_type": "code",
   "execution_count": null,
   "metadata": {},
   "outputs": [],
   "source": [
    "df_submission_edges = df_submission_enriched.loc[:, [\"ego_id\", \"u\", \"v\"]]\n",
    "df_submission_edges"
   ]
  },
  {
   "cell_type": "code",
   "execution_count": null,
   "metadata": {},
   "outputs": [],
   "source": [
    "drop_features_submission = [\n",
    "    'ego_id', \n",
    "    'u', \n",
    "    'v', \n",
    "    'node_idx_global_u', \n",
    "    'node_idx_global_v'\n",
    "]"
   ]
  },
  {
   "cell_type": "code",
   "execution_count": null,
   "metadata": {},
   "outputs": [],
   "source": [
    "df_submission_enriched.drop(drop_features_submission, axis=1, inplace=True)"
   ]
  },
  {
   "cell_type": "code",
   "execution_count": null,
   "metadata": {},
   "outputs": [],
   "source": [
    "df_submission_enriched"
   ]
  },
  {
   "cell_type": "code",
   "execution_count": null,
   "metadata": {},
   "outputs": [],
   "source": [
    "df_submission_enriched"
   ]
  },
  {
   "cell_type": "code",
   "execution_count": null,
   "metadata": {},
   "outputs": [],
   "source": [
    "df_submission_edges[\"x1\"] = cb.predict(df_submission_enriched)"
   ]
  },
  {
   "cell_type": "code",
   "execution_count": null,
   "metadata": {},
   "outputs": [],
   "source": [
    "df_submission_edges"
   ]
  },
  {
   "cell_type": "code",
   "execution_count": null,
   "metadata": {},
   "outputs": [],
   "source": [
    "df_submission_edges.sort_values([\"ego_id\", \"u\", \"v\"], inplace=True)"
   ]
  },
  {
   "cell_type": "code",
   "execution_count": null,
   "metadata": {},
   "outputs": [],
   "source": [
    "df_submission_edges.nunique()"
   ]
  },
  {
   "cell_type": "code",
   "execution_count": null,
   "metadata": {},
   "outputs": [],
   "source": [
    "df_submission_edges"
   ]
  },
  {
   "cell_type": "code",
   "execution_count": null,
   "metadata": {},
   "outputs": [],
   "source": [
    "df_submission_edges.to_csv(\"submits/submission_catboost_2.csv\", index=False)"
   ]
  },
  {
   "cell_type": "code",
   "execution_count": null,
   "metadata": {},
   "outputs": [],
   "source": [
    "df_submission_edges.sort_values"
   ]
  },
  {
   "cell_type": "code",
   "execution_count": null,
   "metadata": {},
   "outputs": [],
   "source": [
    "df_submission_edges.dtypes"
   ]
  },
  {
   "cell_type": "code",
   "execution_count": null,
   "metadata": {},
   "outputs": [],
   "source": [
    "a = 1.606742e+00"
   ]
  },
  {
   "cell_type": "code",
   "execution_count": null,
   "metadata": {},
   "outputs": [],
   "source": [
    "type(a)"
   ]
  },
  {
   "cell_type": "code",
   "execution_count": null,
   "metadata": {},
   "outputs": [],
   "source": [
    "b = 0.35925092226941047\n",
    "type(b)"
   ]
  }
 ],
 "metadata": {
  "kernelspec": {
   "display_name": "graph_ml",
   "language": "python",
   "name": "python3"
  },
  "language_info": {
   "codemirror_mode": {
    "name": "ipython",
    "version": 3
   },
   "file_extension": ".py",
   "mimetype": "text/x-python",
   "name": "python",
   "nbconvert_exporter": "python",
   "pygments_lexer": "ipython3",
   "version": "3.10.11"
  },
  "orig_nbformat": 4
 },
 "nbformat": 4,
 "nbformat_minor": 2
}
